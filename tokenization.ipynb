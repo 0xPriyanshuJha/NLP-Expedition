{
 "cells": [
  {
   "cell_type": "code",
   "execution_count": 2,
   "metadata": {},
   "outputs": [],
   "source": [
    "import nltk"
   ]
  },
  {
   "cell_type": "code",
   "execution_count": 3,
   "metadata": {},
   "outputs": [],
   "source": [
    "corpus = \"\"\"Hello, My name is Priyanshu Jha.\n",
    "Currently exploring NLP and its uses.\n",
    "I am a Machine Learning Engineer and I love to code.\n",
    "\"\"\""
   ]
  },
  {
   "cell_type": "code",
   "execution_count": 5,
   "metadata": {},
   "outputs": [
    {
     "name": "stdout",
     "output_type": "stream",
     "text": [
      "Hello, My name is Priyanshu Jha.\n",
      "Currently exploring NLP and its uses.\n",
      "I am a Machine Learning Engineer and I love to code.\n",
      "\n"
     ]
    }
   ],
   "source": [
    "print(corpus)"
   ]
  },
  {
   "cell_type": "markdown",
   "metadata": {},
   "source": [
    "## Tokenization, here converting para into sentences"
   ]
  },
  {
   "cell_type": "code",
   "execution_count": 8,
   "metadata": {},
   "outputs": [
    {
     "name": "stderr",
     "output_type": "stream",
     "text": [
      "[nltk_data] Downloading package punkt to /Users/priyanshu/nltk_data...\n",
      "[nltk_data]   Unzipping tokenizers/punkt.zip.\n"
     ]
    },
    {
     "data": {
      "text/plain": [
       "True"
      ]
     },
     "execution_count": 8,
     "metadata": {},
     "output_type": "execute_result"
    }
   ],
   "source": [
    "import nltk\n",
    "nltk.download('punkt')"
   ]
  },
  {
   "cell_type": "code",
   "execution_count": 12,
   "metadata": {},
   "outputs": [
    {
     "data": {
      "text/plain": [
       "['Hello, My name is Priyanshu Jha.',\n",
       " 'Currently exploring NLP and its uses.',\n",
       " 'I am a Machine Learning Engineer and I love to code.']"
      ]
     },
     "execution_count": 12,
     "metadata": {},
     "output_type": "execute_result"
    }
   ],
   "source": [
    "from nltk.tokenize import sent_tokenize\n",
    "documents = sent_tokenize(corpus)\n",
    "documents"
   ]
  },
  {
   "cell_type": "code",
   "execution_count": 11,
   "metadata": {},
   "outputs": [
    {
     "name": "stdout",
     "output_type": "stream",
     "text": [
      "Hello, My name is Priyanshu Jha.\n",
      "Currently exploring NLP and its uses.\n",
      "I am a Machine Learning Engineer and I love to code.\n"
     ]
    }
   ],
   "source": [
    "# iterating through each sentence in the documents\n",
    "for sentence in documents:\n",
    "    print(sentence)"
   ]
  },
  {
   "cell_type": "markdown",
   "metadata": {},
   "source": [
    "### tokenization para into words or sentence into words"
   ]
  },
  {
   "cell_type": "code",
   "execution_count": 24,
   "metadata": {},
   "outputs": [
    {
     "data": {
      "text/plain": [
       "['Hello',\n",
       " ',',\n",
       " 'My',\n",
       " 'name',\n",
       " 'is',\n",
       " 'Priyanshu',\n",
       " 'Jha',\n",
       " '.',\n",
       " 'Currently',\n",
       " 'exploring',\n",
       " 'NLP',\n",
       " 'and',\n",
       " 'its',\n",
       " 'uses',\n",
       " '.',\n",
       " 'I',\n",
       " 'am',\n",
       " 'a',\n",
       " 'Machine',\n",
       " 'Learning',\n",
       " 'Engineer',\n",
       " 'and',\n",
       " 'I',\n",
       " 'love',\n",
       " 'to',\n",
       " 'code',\n",
       " '.']"
      ]
     },
     "execution_count": 24,
     "metadata": {},
     "output_type": "execute_result"
    }
   ],
   "source": [
    "from nltk.tokenize import word_tokenize\n",
    "words_sent = word_tokenize(sentence)\n",
    "words_corp = word_tokenize(corpus)\n",
    "words_corp"
   ]
  },
  {
   "cell_type": "code",
   "execution_count": 21,
   "metadata": {},
   "outputs": [
    {
     "name": "stdout",
     "output_type": "stream",
     "text": [
      "['Hello', ',', 'My', 'name', 'is', 'Priyanshu', 'Jha', '.']\n",
      "['Currently', 'exploring', 'NLP', 'and', 'its', 'uses', '.']\n",
      "['I', 'am', 'a', 'Machine', 'Learning', 'Engineer', 'and', 'I', 'love', 'to', 'code', '.']\n"
     ]
    }
   ],
   "source": [
    "for sentence in documents:\n",
    "    words_sent = word_tokenize(sentence)\n",
    "    print(words_sent)"
   ]
  },
  {
   "cell_type": "code",
   "execution_count": 23,
   "metadata": {},
   "outputs": [
    {
     "data": {
      "text/plain": [
       "['Hello',\n",
       " ',',\n",
       " 'My',\n",
       " 'name',\n",
       " 'is',\n",
       " 'Priyanshu',\n",
       " 'Jha.',\n",
       " 'Currently',\n",
       " 'exploring',\n",
       " 'NLP',\n",
       " 'and',\n",
       " 'its',\n",
       " 'uses.',\n",
       " 'I',\n",
       " 'am',\n",
       " 'a',\n",
       " 'Machine',\n",
       " 'Learning',\n",
       " 'Engineer',\n",
       " 'and',\n",
       " 'I',\n",
       " 'love',\n",
       " 'to',\n",
       " 'code',\n",
       " '.']"
      ]
     },
     "execution_count": 23,
     "metadata": {},
     "output_type": "execute_result"
    }
   ],
   "source": [
    "from nltk.tokenize import TreebankWordTokenizer\n",
    "tokenizer = TreebankWordTokenizer()\n",
    "tokenizer.tokenize(corpus)"
   ]
  },
  {
   "cell_type": "code",
   "execution_count": null,
   "metadata": {},
   "outputs": [],
   "source": []
  }
 ],
 "metadata": {
  "kernelspec": {
   "display_name": "base",
   "language": "python",
   "name": "python3"
  },
  "language_info": {
   "codemirror_mode": {
    "name": "ipython",
    "version": 3
   },
   "file_extension": ".py",
   "mimetype": "text/x-python",
   "name": "python",
   "nbconvert_exporter": "python",
   "pygments_lexer": "ipython3",
   "version": "3.11.7"
  }
 },
 "nbformat": 4,
 "nbformat_minor": 2
}
